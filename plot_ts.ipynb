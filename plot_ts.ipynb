import matplotlib.pyplot as plt
%matplotlib inline

# for plot only
from plotly.offline import init_notebook_mode, plot, iplot
import plotly.graph_objs as go
import plotly
init_notebook_mode(connected=True)

gmv_data = eff_time_gmv[eff_time_gmv['account_id']==15664607][['eff_time','live_gmv']]
fig = plotly.subplots.make_subplots(rows=1, cols=1, subplot_titles=['15664607'],
                              shared_xaxes=True,print_grid=False)
data = go.Scatter(x=gmv_data['eff_time'], 
                  y=gmv_data['live_gmv'].values,
                  showlegend=True,
                  #name=target_path,
                  mode = 'lines',
                  line=dict(width=2),
                 )

fig.append_trace(data, 1, 1)

fig['layout'].update(height=400, width=1000, title='GMV')

plotly.offline.iplot(fig, filename='make-subplots-multiple-with-titles')
